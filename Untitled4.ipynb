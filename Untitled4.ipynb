{
  "nbformat": 4,
  "nbformat_minor": 0,
  "metadata": {
    "colab": {
      "provenance": [],
      "authorship_tag": "ABX9TyOBAlshIqEWKS6Rz7um7EVV",
      "include_colab_link": true
    },
    "kernelspec": {
      "name": "python3",
      "display_name": "Python 3"
    },
    "language_info": {
      "name": "python"
    }
  },
  "cells": [
    {
      "cell_type": "markdown",
      "metadata": {
        "id": "view-in-github",
        "colab_type": "text"
      },
      "source": [
        "<a href=\"https://colab.research.google.com/github/Isnup/Projeto_Zero_Separa-o/blob/main/Untitled4.ipynb\" target=\"_parent\"><img src=\"https://colab.research.google.com/assets/colab-badge.svg\" alt=\"Open In Colab\"/></a>"
      ]
    },
    {
      "cell_type": "code",
      "execution_count": null,
      "metadata": {
        "colab": {
          "base_uri": "https://localhost:8080/"
        },
        "id": "bfdoa2OeKTWg",
        "outputId": "ad9e4681-c87d-4a9a-e6a9-a9b0c3eabee5"
      },
      "outputs": [
        {
          "output_type": "stream",
          "name": "stdout",
          "text": [
            "Requirement already satisfied: google-cloud-vision in /usr/local/lib/python3.10/dist-packages (3.7.2)\n",
            "Requirement already satisfied: google-api-core[grpc]!=2.0.*,!=2.1.*,!=2.10.*,!=2.2.*,!=2.3.*,!=2.4.*,!=2.5.*,!=2.6.*,!=2.7.*,!=2.8.*,!=2.9.*,<3.0.0dev,>=1.34.1 in /usr/local/lib/python3.10/dist-packages (from google-cloud-vision) (2.11.1)\n",
            "Requirement already satisfied: google-auth!=2.24.0,!=2.25.0,<3.0.0dev,>=2.14.1 in /usr/local/lib/python3.10/dist-packages (from google-cloud-vision) (2.27.0)\n",
            "Requirement already satisfied: proto-plus<2.0.0dev,>=1.22.3 in /usr/local/lib/python3.10/dist-packages (from google-cloud-vision) (1.23.0)\n",
            "Requirement already satisfied: protobuf!=3.20.0,!=3.20.1,!=4.21.0,!=4.21.1,!=4.21.2,!=4.21.3,!=4.21.4,!=4.21.5,<5.0.0dev,>=3.19.5 in /usr/local/lib/python3.10/dist-packages (from google-cloud-vision) (3.20.3)\n",
            "Requirement already satisfied: googleapis-common-protos<2.0.dev0,>=1.56.2 in /usr/local/lib/python3.10/dist-packages (from google-api-core[grpc]!=2.0.*,!=2.1.*,!=2.10.*,!=2.2.*,!=2.3.*,!=2.4.*,!=2.5.*,!=2.6.*,!=2.7.*,!=2.8.*,!=2.9.*,<3.0.0dev,>=1.34.1->google-cloud-vision) (1.63.0)\n",
            "Requirement already satisfied: requests<3.0.0.dev0,>=2.18.0 in /usr/local/lib/python3.10/dist-packages (from google-api-core[grpc]!=2.0.*,!=2.1.*,!=2.10.*,!=2.2.*,!=2.3.*,!=2.4.*,!=2.5.*,!=2.6.*,!=2.7.*,!=2.8.*,!=2.9.*,<3.0.0dev,>=1.34.1->google-cloud-vision) (2.31.0)\n",
            "Requirement already satisfied: grpcio<2.0dev,>=1.33.2 in /usr/local/lib/python3.10/dist-packages (from google-api-core[grpc]!=2.0.*,!=2.1.*,!=2.10.*,!=2.2.*,!=2.3.*,!=2.4.*,!=2.5.*,!=2.6.*,!=2.7.*,!=2.8.*,!=2.9.*,<3.0.0dev,>=1.34.1->google-cloud-vision) (1.63.0)\n",
            "Requirement already satisfied: grpcio-status<2.0.dev0,>=1.33.2 in /usr/local/lib/python3.10/dist-packages (from google-api-core[grpc]!=2.0.*,!=2.1.*,!=2.10.*,!=2.2.*,!=2.3.*,!=2.4.*,!=2.5.*,!=2.6.*,!=2.7.*,!=2.8.*,!=2.9.*,<3.0.0dev,>=1.34.1->google-cloud-vision) (1.48.2)\n",
            "Requirement already satisfied: cachetools<6.0,>=2.0.0 in /usr/local/lib/python3.10/dist-packages (from google-auth!=2.24.0,!=2.25.0,<3.0.0dev,>=2.14.1->google-cloud-vision) (5.3.3)\n",
            "Requirement already satisfied: pyasn1-modules>=0.2.1 in /usr/local/lib/python3.10/dist-packages (from google-auth!=2.24.0,!=2.25.0,<3.0.0dev,>=2.14.1->google-cloud-vision) (0.4.0)\n",
            "Requirement already satisfied: rsa<5,>=3.1.4 in /usr/local/lib/python3.10/dist-packages (from google-auth!=2.24.0,!=2.25.0,<3.0.0dev,>=2.14.1->google-cloud-vision) (4.9)\n",
            "Requirement already satisfied: pyasn1<0.7.0,>=0.4.6 in /usr/local/lib/python3.10/dist-packages (from pyasn1-modules>=0.2.1->google-auth!=2.24.0,!=2.25.0,<3.0.0dev,>=2.14.1->google-cloud-vision) (0.6.0)\n",
            "Requirement already satisfied: charset-normalizer<4,>=2 in /usr/local/lib/python3.10/dist-packages (from requests<3.0.0.dev0,>=2.18.0->google-api-core[grpc]!=2.0.*,!=2.1.*,!=2.10.*,!=2.2.*,!=2.3.*,!=2.4.*,!=2.5.*,!=2.6.*,!=2.7.*,!=2.8.*,!=2.9.*,<3.0.0dev,>=1.34.1->google-cloud-vision) (3.3.2)\n",
            "Requirement already satisfied: idna<4,>=2.5 in /usr/local/lib/python3.10/dist-packages (from requests<3.0.0.dev0,>=2.18.0->google-api-core[grpc]!=2.0.*,!=2.1.*,!=2.10.*,!=2.2.*,!=2.3.*,!=2.4.*,!=2.5.*,!=2.6.*,!=2.7.*,!=2.8.*,!=2.9.*,<3.0.0dev,>=1.34.1->google-cloud-vision) (3.7)\n",
            "Requirement already satisfied: urllib3<3,>=1.21.1 in /usr/local/lib/python3.10/dist-packages (from requests<3.0.0.dev0,>=2.18.0->google-api-core[grpc]!=2.0.*,!=2.1.*,!=2.10.*,!=2.2.*,!=2.3.*,!=2.4.*,!=2.5.*,!=2.6.*,!=2.7.*,!=2.8.*,!=2.9.*,<3.0.0dev,>=1.34.1->google-cloud-vision) (2.0.7)\n",
            "Requirement already satisfied: certifi>=2017.4.17 in /usr/local/lib/python3.10/dist-packages (from requests<3.0.0.dev0,>=2.18.0->google-api-core[grpc]!=2.0.*,!=2.1.*,!=2.10.*,!=2.2.*,!=2.3.*,!=2.4.*,!=2.5.*,!=2.6.*,!=2.7.*,!=2.8.*,!=2.9.*,<3.0.0dev,>=1.34.1->google-cloud-vision) (2024.2.2)\n",
            "IMAGEM NÃO OK\n"
          ]
        }
      ],
      "source": [
        "!pip install google-cloud-vision\n",
        "from google.cloud import storage\n",
        "from google.cloud import vision\n",
        "import os\n",
        "\n",
        "# Credenciais da Google Cloud (ajuste conforme necessário)\n",
        "os.environ[\"GOOGLE_APPLICATION_CREDENTIALS\"] = \"/content/brilliant-tower-423920-d0-18f95ca9a6f2.json\"\n",
        "\n",
        "# Configuração do projeto e buckets\n",
        "project_id = \"brilliant-tower-423920-d0\"\n",
        "bucket_name_boas = \"imagens_badgods/good_images\"\n",
        "bucket_name_ruins = \"imagens_badgods/bad_images\"\n",
        "\n",
        "# Inicializa clientes do Google Cloud\n",
        "storage_client = storage.Client()\n",
        "vision_client = vision.ImageAnnotatorClient()\n",
        "\n",
        "def analisar_imagem(imagem_url):\n",
        "    \"\"\"\n",
        "    Analisa uma imagem de código de data e retorna se é \"IMAGEM OK\" ou \"IMAGEM NÃO OK\".\n",
        "\n",
        "    Args:\n",
        "        imagem_url: URL da imagem a ser analisada.\n",
        "\n",
        "    Returns:\n",
        "        str: \"IMAGEM OK\" se a imagem for semelhante a imagens boas,\n",
        "             \"IMAGEM NÃO OK\" caso contrário.\n",
        "    \"\"\"\n",
        "\n",
        "    # Cria uma lista de características a serem extraídas da imagem\n",
        "    features = [{\"type_\": vision.Feature.Type.LABEL_DETECTION}]\n",
        "\n",
        "    # Prepara a requisição para a API Vision\n",
        "    image = vision.Image(source=vision.ImageSource(image_uri=imagem_url))\n",
        "    request = vision.AnnotateImageRequest(image=image, features=features)\n",
        "\n",
        "    # Faz a requisição à API Vision\n",
        "    response = vision_client.annotate_image(request=request)\n",
        "\n",
        "    # Processa a resposta e compara com os bancos de imagens\n",
        "    if response.error.message:\n",
        "        raise Exception(\n",
        "            f\"{response.error.message}\\n\"\n",
        "            f\"Para mais informações sobre o erro, acesse: \"\n",
        "            f\"https://cloud.google.com/vision/docs/reference/rest/v1/Code\"\n",
        "        )\n",
        "\n",
        "    # Implementa lógica de comparação com bancos de imagens (simplificada abaixo)\n",
        "    # Substitua por uma lógica mais robusta usando um modelo de machine learning\n",
        "    labels = [label.description for label in response.label_annotations]\n",
        "    if any(label in [\"garrafa\", \"refrigerante\", \"código\"] for label in labels):\n",
        "        return \"IMAGEM OK\"\n",
        "    else:\n",
        "        return \"IMAGEM NÃO OK\"\n",
        "\n",
        "# URL da imagem a ser analisada\n",
        "imagem_url = (\"https://storage.googleapis.com/imagens_badgods/IMG_20240516_135721.jpg\")\n",
        "\n",
        "# Analisa a imagem\n",
        "resultado = analisar_imagem(imagem_url)\n",
        "\n",
        "# Imprime o resultado\n",
        "print(resultado)"
      ]
    }
  ]
}