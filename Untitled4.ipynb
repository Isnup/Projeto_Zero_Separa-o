{
  "nbformat": 4,
  "nbformat_minor": 0,
  "metadata": {
    "colab": {
      "provenance": [],
      "authorship_tag": "ABX9TyN7Qjzdltae/Pq3gbHYn2qP",
      "include_colab_link": true
    },
    "kernelspec": {
      "name": "python3",
      "display_name": "Python 3"
    },
    "language_info": {
      "name": "python"
    }
  },
  "cells": [
    {
      "cell_type": "markdown",
      "metadata": {
        "id": "view-in-github",
        "colab_type": "text"
      },
      "source": [
        "<a href=\"https://colab.research.google.com/github/Isnup/Projeto_Zero_Separa-o/blob/main/Untitled4.ipynb\" target=\"_parent\"><img src=\"https://colab.research.google.com/assets/colab-badge.svg\" alt=\"Open In Colab\"/></a>"
      ]
    },
    {
      "cell_type": "code",
      "source": [
        "from google.cloud import storage\n",
        "from google.cloud import vision\n",
        "import os\n",
        "\n",
        "# Credenciais da Google Cloud (ajuste conforme necessário)\n",
        "os.environ[\"GOOGLE_APPLICATION_CREDENTIALS\"] = \"/content/brilliant-tower-423920-d0-18f95ca9a6f2.json\"\n",
        "\n",
        "# Configuração do projeto e buckets\n",
        "project_id = \"brilliant-tower-423920-d0\"\n",
        "bucket_name_boas = \"imagens_badgods/good_images\"\n",
        "bucket_name_ruins = \"imagens_badgods/bad_images\"\n",
        "\n",
        "# Inicializa clientes do Google Cloud\n",
        "storage_client = storage.Client()\n",
        "vision_client = vision.ImageAnnotatorClient()\n",
        "\n",
        "def analisar_imagem(imagem_url):\n",
        "    \"\"\"\n",
        "    Analisa uma imagem de código de data e retorna o texto extraído.\n",
        "\n",
        "    Args:\n",
        "        imagem_url: URL da imagem a ser analisada.\n",
        "\n",
        "    Returns:\n",
        "        str: O texto extraído da imagem.\n",
        "    \"\"\"\n",
        "\n",
        "    # Cria uma lista de características a serem extraídas da imagem\n",
        "    features = [{\"type_\": vision.Feature.Type.TEXT_DETECTION}]\n",
        "\n",
        "    # Prepara a requisição para a API Vision\n",
        "    image = vision.Image(source=vision.ImageSource(image_uri=imagem_url))\n",
        "    request = vision.AnnotateImageRequest(image=image, features=features)\n",
        "\n",
        "    # Faz a requisição à API Vision\n",
        "    response = vision_client.annotate_image(request=request)\n",
        "\n",
        "    # Processa a resposta e compara com os bancos de imagens\n",
        "    if response.error.message:\n",
        "        raise Exception(\n",
        "            f\"{response.error.message}\\n\"\n",
        "            f\"Para mais informações sobre o erro, acesse: \"\n",
        "            f\"https://cloud.google.com/vision/docs/reference/rest/v1/Code\"\n",
        "        )\n",
        "\n",
        "    # Extrai o texto detectado\n",
        "    texts = response.text_annotations\n",
        "    texto_detectado = texts[0].description if texts else \"\"\n",
        "\n",
        "    # Retorna o texto extraído\n",
        "    return texto_detectado\n",
        "\n",
        "# URL da imagem a ser analisada\n",
        "imagem_url = (\"https://storage.googleapis.com/imagens_badgods/imagens_testes/IMG_20240516_135816.jpg\")\n",
        "\n",
        "# Analisa a imagem\n",
        "resultado = analisar_imagem(imagem_url)\n",
        "\n",
        "# Imprime o resultado\n",
        "print(resultado)"
      ],
      "metadata": {
        "colab": {
          "base_uri": "https://localhost:8080/"
        },
        "id": "MPbC2eI6a3rT",
        "outputId": "613f3918-1a59-4dc0-f953-63bcf48924f1"
      },
      "execution_count": 54,
      "outputs": [
        {
          "output_type": "stream",
          "name": "stdout",
          "text": [
            "DF 1 VAL 050824\n",
            "2 00:17 P070224\n"
          ]
        }
      ]
    }
  ]
}