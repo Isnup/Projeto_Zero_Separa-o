{
  "nbformat": 4,
  "nbformat_minor": 0,
  "metadata": {
    "colab": {
      "provenance": [],
      "authorship_tag": "ABX9TyM+wG5e9z1ItqhDEWSyUnHj",
      "include_colab_link": true
    },
    "kernelspec": {
      "name": "python3",
      "display_name": "Python 3"
    },
    "language_info": {
      "name": "python"
    }
  },
  "cells": [
    {
      "cell_type": "markdown",
      "metadata": {
        "id": "view-in-github",
        "colab_type": "text"
      },
      "source": [
        "<a href=\"https://colab.research.google.com/github/Isnup/Projeto_Zero_Separa-o/blob/main/Untitled5.ipynb\" target=\"_parent\"><img src=\"https://colab.research.google.com/assets/colab-badge.svg\" alt=\"Open In Colab\"/></a>"
      ]
    },
    {
      "cell_type": "code",
      "execution_count": 1,
      "metadata": {
        "colab": {
          "base_uri": "https://localhost:8080/"
        },
        "id": "QzrvqNZ5SGpQ",
        "outputId": "5bdc0093-95ab-422f-e22f-412309dfd8de"
      },
      "outputs": [
        {
          "output_type": "stream",
          "name": "stdout",
          "text": [
            "Arquivo CSV criado com sucesso!\n"
          ]
        }
      ],
      "source": [
        "# Importar bibliotecas necessárias\n",
        "from google.cloud import storage\n",
        "import os\n",
        "import pandas as pd\n",
        "\n",
        "# Definir as credenciais e o nome do bucket\n",
        "os.environ['GOOGLE_APPLICATION_CREDENTIALS'] = 'brilliant-tower-423920-d0-18f95ca9a6f2.json'\n",
        "bucket_name = 'engradado_garrafas'\n",
        "\n",
        "# Criar um cliente do Google Cloud Storage\n",
        "storage_client = storage.Client()\n",
        "\n",
        "# Obter um objeto de bucket\n",
        "bucket = storage_client.bucket(bucket_name)\n",
        "\n",
        "# Criar uma lista para armazenar os dados do CSV\n",
        "data = []\n",
        "\n",
        "# Iterar sobre os blobs no bucket\n",
        "for blob in bucket.list_blobs():\n",
        "  # Obter o nome do arquivo e o URL público\n",
        "  file_name = blob.name\n",
        "  public_url = blob.public_url\n",
        "\n",
        "  # Adicionar os dados à lista\n",
        "  data.append({'file_name': file_name, 'public_url': public_url})\n",
        "\n",
        "# Criar um DataFrame Pandas a partir dos dados\n",
        "df = pd.DataFrame(data)\n",
        "\n",
        "# Salvar o DataFrame como um arquivo CSV\n",
        "df.to_csv('imagens.csv', index=False)\n",
        "\n",
        "# Imprimir uma mensagem de sucesso\n",
        "print('Arquivo CSV criado com sucesso!')"
      ]
    }
  ]
}